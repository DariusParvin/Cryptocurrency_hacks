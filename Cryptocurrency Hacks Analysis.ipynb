{
 "cells": [
  {
   "cell_type": "code",
   "execution_count": 1,
   "metadata": {},
   "outputs": [
    {
     "data": {
      "text/html": [
       "<script>\n",
       "code_show=true; \n",
       "function code_toggle() {\n",
       " if (code_show){\n",
       " $('div.input').hide();\n",
       " } else {\n",
       " $('div.input').show();\n",
       " }\n",
       " code_show = !code_show\n",
       "} \n",
       "$( document ).ready(code_toggle);\n",
       "</script>\n",
       "<form action=\"javascript:code_toggle()\"><input type=\"submit\" value=\"Click here to toggle on/off the raw code.\"></form>"
      ],
      "text/plain": [
       "<IPython.core.display.HTML object>"
      ]
     },
     "execution_count": 1,
     "metadata": {},
     "output_type": "execute_result"
    }
   ],
   "source": [
    "from IPython.display import HTML\n",
    "\n",
    "HTML('''<script>\n",
    "code_show=true; \n",
    "function code_toggle() {\n",
    " if (code_show){\n",
    " $('div.input').hide();\n",
    " } else {\n",
    " $('div.input').show();\n",
    " }\n",
    " code_show = !code_show\n",
    "} \n",
    "$( document ).ready(code_toggle);\n",
    "</script>\n",
    "<form action=\"javascript:code_toggle()\"><input type=\"submit\" value=\"Click here to toggle on/off the raw code.\"></form>''')"
   ]
  },
  {
   "cell_type": "markdown",
   "metadata": {},
   "source": [
    "# Cryptocurrency Hacks\n",
    "\n",
    "Here is a compilation of data obtained from the internet about documented cases of cryptocurrency hacks. <br>Analysis of this data reveals a few key take aways: <br>\n",
    "\n",
    "- While the number of hacks per year has been increasing, the ratio relative to the number of exchanges in operation has been decreasing (Figure 1).\n",
    "- Similarly, while the cost of hacks has been increaseing, the amount relative to the total market cap has been decreasing (Figure 3).\n",
    "- Two thirds of hack involved funds being stolen from a hot wallet (Figure 6). \n",
    "\n",
    "\n",
    "Files: <br>\n",
    "CryptoHacks_coded_cleaned_nov2018.csv  -  Contains data about cryptocurrency hacks<br>\n",
    "btc_historic_price.csv                 -  Contains btc price and market cap data from blockchain.com<br>\n",
    "ExchangeFoundedDates.csv               -  Contains crowd sourced data on when cryptocurrency exchanges were founded"
   ]
  },
  {
   "cell_type": "code",
   "execution_count": 2,
   "metadata": {},
   "outputs": [],
   "source": [
    "import requests\n",
    "import pandas as pd\n",
    "import numpy as np\n",
    "import datetime\n",
    "from dateutil.parser import parse\n",
    "import matplotlib.pyplot as plt\n",
    "from matplotlib.ticker import FuncFormatter\n",
    "from matplotlib.ticker import FormatStrFormatter\n",
    "\n",
    "from sklearn import datasets, linear_model\n",
    "from sklearn.metrics import mean_squared_error, r2_score\n",
    "\n",
    "import warnings\n",
    "warnings.filterwarnings('ignore')"
   ]
  },
  {
   "cell_type": "code",
   "execution_count": 3,
   "metadata": {},
   "outputs": [],
   "source": [
    "# LOAD MARKETCAP DATA\n",
    "df = pd.read_csv('data/CryptoHacks_coded_cleaned_nov2018.csv')\n",
    "df_charts = pd.read_csv('data/btc_historic_price.csv')\n",
    "\n",
    "# Convert 'year' into datetime format\n",
    "df['date'] = df['year'].apply(lambda x : datetime.datetime.strptime('20' + x, '%Y-%b'))\n",
    "\n",
    "# Convert date format in charts data\n",
    "df_charts['dateNew'] = df_charts['date'].apply(lambda x : datetime.datetime.strptime(x,'%Y-%m-%d'))"
   ]
  },
  {
   "cell_type": "code",
   "execution_count": 4,
   "metadata": {},
   "outputs": [
    {
     "ename": "FileNotFoundError",
     "evalue": "File b'data/ExchangeFoundedDates.csv' does not exist",
     "output_type": "error",
     "traceback": [
      "\u001b[0;31m---------------------------------------------------------------------------\u001b[0m",
      "\u001b[0;31mFileNotFoundError\u001b[0m                         Traceback (most recent call last)",
      "\u001b[0;32m<ipython-input-4-d613fad166e0>\u001b[0m in \u001b[0;36m<module>\u001b[0;34m()\u001b[0m\n\u001b[1;32m      1\u001b[0m \u001b[0;31m# LOAD EXCHANGE DATA\u001b[0m\u001b[0;34m\u001b[0m\u001b[0;34m\u001b[0m\u001b[0m\n\u001b[0;32m----> 2\u001b[0;31m \u001b[0mdf_exch_data\u001b[0m \u001b[0;34m=\u001b[0m \u001b[0mpd\u001b[0m\u001b[0;34m.\u001b[0m\u001b[0mread_csv\u001b[0m\u001b[0;34m(\u001b[0m\u001b[0;34m'data/ExchangeFoundedDates.csv'\u001b[0m\u001b[0;34m)\u001b[0m\u001b[0;34m\u001b[0m\u001b[0m\n\u001b[0m\u001b[1;32m      3\u001b[0m \u001b[0mdf_exchanges\u001b[0m \u001b[0;34m=\u001b[0m \u001b[0mpd\u001b[0m\u001b[0;34m.\u001b[0m\u001b[0mDataFrame\u001b[0m\u001b[0;34m(\u001b[0m\u001b[0;34m)\u001b[0m\u001b[0;34m\u001b[0m\u001b[0m\n\u001b[1;32m      4\u001b[0m \u001b[0;34m\u001b[0m\u001b[0m\n\u001b[1;32m      5\u001b[0m \u001b[0;31m# Find the number of exchanges in existence each year\u001b[0m\u001b[0;34m\u001b[0m\u001b[0;34m\u001b[0m\u001b[0m\n",
      "\u001b[0;32m~/anaconda3/lib/python3.7/site-packages/pandas/io/parsers.py\u001b[0m in \u001b[0;36mparser_f\u001b[0;34m(filepath_or_buffer, sep, delimiter, header, names, index_col, usecols, squeeze, prefix, mangle_dupe_cols, dtype, engine, converters, true_values, false_values, skipinitialspace, skiprows, nrows, na_values, keep_default_na, na_filter, verbose, skip_blank_lines, parse_dates, infer_datetime_format, keep_date_col, date_parser, dayfirst, iterator, chunksize, compression, thousands, decimal, lineterminator, quotechar, quoting, escapechar, comment, encoding, dialect, tupleize_cols, error_bad_lines, warn_bad_lines, skipfooter, doublequote, delim_whitespace, low_memory, memory_map, float_precision)\u001b[0m\n\u001b[1;32m    676\u001b[0m                     skip_blank_lines=skip_blank_lines)\n\u001b[1;32m    677\u001b[0m \u001b[0;34m\u001b[0m\u001b[0m\n\u001b[0;32m--> 678\u001b[0;31m         \u001b[0;32mreturn\u001b[0m \u001b[0m_read\u001b[0m\u001b[0;34m(\u001b[0m\u001b[0mfilepath_or_buffer\u001b[0m\u001b[0;34m,\u001b[0m \u001b[0mkwds\u001b[0m\u001b[0;34m)\u001b[0m\u001b[0;34m\u001b[0m\u001b[0m\n\u001b[0m\u001b[1;32m    679\u001b[0m \u001b[0;34m\u001b[0m\u001b[0m\n\u001b[1;32m    680\u001b[0m     \u001b[0mparser_f\u001b[0m\u001b[0;34m.\u001b[0m\u001b[0m__name__\u001b[0m \u001b[0;34m=\u001b[0m \u001b[0mname\u001b[0m\u001b[0;34m\u001b[0m\u001b[0m\n",
      "\u001b[0;32m~/anaconda3/lib/python3.7/site-packages/pandas/io/parsers.py\u001b[0m in \u001b[0;36m_read\u001b[0;34m(filepath_or_buffer, kwds)\u001b[0m\n\u001b[1;32m    438\u001b[0m \u001b[0;34m\u001b[0m\u001b[0m\n\u001b[1;32m    439\u001b[0m     \u001b[0;31m# Create the parser.\u001b[0m\u001b[0;34m\u001b[0m\u001b[0;34m\u001b[0m\u001b[0m\n\u001b[0;32m--> 440\u001b[0;31m     \u001b[0mparser\u001b[0m \u001b[0;34m=\u001b[0m \u001b[0mTextFileReader\u001b[0m\u001b[0;34m(\u001b[0m\u001b[0mfilepath_or_buffer\u001b[0m\u001b[0;34m,\u001b[0m \u001b[0;34m**\u001b[0m\u001b[0mkwds\u001b[0m\u001b[0;34m)\u001b[0m\u001b[0;34m\u001b[0m\u001b[0m\n\u001b[0m\u001b[1;32m    441\u001b[0m \u001b[0;34m\u001b[0m\u001b[0m\n\u001b[1;32m    442\u001b[0m     \u001b[0;32mif\u001b[0m \u001b[0mchunksize\u001b[0m \u001b[0;32mor\u001b[0m \u001b[0miterator\u001b[0m\u001b[0;34m:\u001b[0m\u001b[0;34m\u001b[0m\u001b[0m\n",
      "\u001b[0;32m~/anaconda3/lib/python3.7/site-packages/pandas/io/parsers.py\u001b[0m in \u001b[0;36m__init__\u001b[0;34m(self, f, engine, **kwds)\u001b[0m\n\u001b[1;32m    785\u001b[0m             \u001b[0mself\u001b[0m\u001b[0;34m.\u001b[0m\u001b[0moptions\u001b[0m\u001b[0;34m[\u001b[0m\u001b[0;34m'has_index_names'\u001b[0m\u001b[0;34m]\u001b[0m \u001b[0;34m=\u001b[0m \u001b[0mkwds\u001b[0m\u001b[0;34m[\u001b[0m\u001b[0;34m'has_index_names'\u001b[0m\u001b[0;34m]\u001b[0m\u001b[0;34m\u001b[0m\u001b[0m\n\u001b[1;32m    786\u001b[0m \u001b[0;34m\u001b[0m\u001b[0m\n\u001b[0;32m--> 787\u001b[0;31m         \u001b[0mself\u001b[0m\u001b[0;34m.\u001b[0m\u001b[0m_make_engine\u001b[0m\u001b[0;34m(\u001b[0m\u001b[0mself\u001b[0m\u001b[0;34m.\u001b[0m\u001b[0mengine\u001b[0m\u001b[0;34m)\u001b[0m\u001b[0;34m\u001b[0m\u001b[0m\n\u001b[0m\u001b[1;32m    788\u001b[0m \u001b[0;34m\u001b[0m\u001b[0m\n\u001b[1;32m    789\u001b[0m     \u001b[0;32mdef\u001b[0m \u001b[0mclose\u001b[0m\u001b[0;34m(\u001b[0m\u001b[0mself\u001b[0m\u001b[0;34m)\u001b[0m\u001b[0;34m:\u001b[0m\u001b[0;34m\u001b[0m\u001b[0m\n",
      "\u001b[0;32m~/anaconda3/lib/python3.7/site-packages/pandas/io/parsers.py\u001b[0m in \u001b[0;36m_make_engine\u001b[0;34m(self, engine)\u001b[0m\n\u001b[1;32m   1012\u001b[0m     \u001b[0;32mdef\u001b[0m \u001b[0m_make_engine\u001b[0m\u001b[0;34m(\u001b[0m\u001b[0mself\u001b[0m\u001b[0;34m,\u001b[0m \u001b[0mengine\u001b[0m\u001b[0;34m=\u001b[0m\u001b[0;34m'c'\u001b[0m\u001b[0;34m)\u001b[0m\u001b[0;34m:\u001b[0m\u001b[0;34m\u001b[0m\u001b[0m\n\u001b[1;32m   1013\u001b[0m         \u001b[0;32mif\u001b[0m \u001b[0mengine\u001b[0m \u001b[0;34m==\u001b[0m \u001b[0;34m'c'\u001b[0m\u001b[0;34m:\u001b[0m\u001b[0;34m\u001b[0m\u001b[0m\n\u001b[0;32m-> 1014\u001b[0;31m             \u001b[0mself\u001b[0m\u001b[0;34m.\u001b[0m\u001b[0m_engine\u001b[0m \u001b[0;34m=\u001b[0m \u001b[0mCParserWrapper\u001b[0m\u001b[0;34m(\u001b[0m\u001b[0mself\u001b[0m\u001b[0;34m.\u001b[0m\u001b[0mf\u001b[0m\u001b[0;34m,\u001b[0m \u001b[0;34m**\u001b[0m\u001b[0mself\u001b[0m\u001b[0;34m.\u001b[0m\u001b[0moptions\u001b[0m\u001b[0;34m)\u001b[0m\u001b[0;34m\u001b[0m\u001b[0m\n\u001b[0m\u001b[1;32m   1015\u001b[0m         \u001b[0;32melse\u001b[0m\u001b[0;34m:\u001b[0m\u001b[0;34m\u001b[0m\u001b[0m\n\u001b[1;32m   1016\u001b[0m             \u001b[0;32mif\u001b[0m \u001b[0mengine\u001b[0m \u001b[0;34m==\u001b[0m \u001b[0;34m'python'\u001b[0m\u001b[0;34m:\u001b[0m\u001b[0;34m\u001b[0m\u001b[0m\n",
      "\u001b[0;32m~/anaconda3/lib/python3.7/site-packages/pandas/io/parsers.py\u001b[0m in \u001b[0;36m__init__\u001b[0;34m(self, src, **kwds)\u001b[0m\n\u001b[1;32m   1706\u001b[0m         \u001b[0mkwds\u001b[0m\u001b[0;34m[\u001b[0m\u001b[0;34m'usecols'\u001b[0m\u001b[0;34m]\u001b[0m \u001b[0;34m=\u001b[0m \u001b[0mself\u001b[0m\u001b[0;34m.\u001b[0m\u001b[0musecols\u001b[0m\u001b[0;34m\u001b[0m\u001b[0m\n\u001b[1;32m   1707\u001b[0m \u001b[0;34m\u001b[0m\u001b[0m\n\u001b[0;32m-> 1708\u001b[0;31m         \u001b[0mself\u001b[0m\u001b[0;34m.\u001b[0m\u001b[0m_reader\u001b[0m \u001b[0;34m=\u001b[0m \u001b[0mparsers\u001b[0m\u001b[0;34m.\u001b[0m\u001b[0mTextReader\u001b[0m\u001b[0;34m(\u001b[0m\u001b[0msrc\u001b[0m\u001b[0;34m,\u001b[0m \u001b[0;34m**\u001b[0m\u001b[0mkwds\u001b[0m\u001b[0;34m)\u001b[0m\u001b[0;34m\u001b[0m\u001b[0m\n\u001b[0m\u001b[1;32m   1709\u001b[0m \u001b[0;34m\u001b[0m\u001b[0m\n\u001b[1;32m   1710\u001b[0m         \u001b[0mpassed_names\u001b[0m \u001b[0;34m=\u001b[0m \u001b[0mself\u001b[0m\u001b[0;34m.\u001b[0m\u001b[0mnames\u001b[0m \u001b[0;32mis\u001b[0m \u001b[0;32mNone\u001b[0m\u001b[0;34m\u001b[0m\u001b[0m\n",
      "\u001b[0;32mpandas/_libs/parsers.pyx\u001b[0m in \u001b[0;36mpandas._libs.parsers.TextReader.__cinit__\u001b[0;34m()\u001b[0m\n",
      "\u001b[0;32mpandas/_libs/parsers.pyx\u001b[0m in \u001b[0;36mpandas._libs.parsers.TextReader._setup_parser_source\u001b[0;34m()\u001b[0m\n",
      "\u001b[0;31mFileNotFoundError\u001b[0m: File b'data/ExchangeFoundedDates.csv' does not exist"
     ]
    }
   ],
   "source": [
    "# LOAD EXCHANGE DATA\n",
    "df_exch_data = pd.read_csv('data/ExchangeFoundedDates.csv')\n",
    "df_exchanges = pd.DataFrame()\n",
    "\n",
    "# Find the number of exchanges in existence each year\n",
    "for year in range(2011,2019):\n",
    "    nExchanges = sum(df_exch_data['yearFounded'].values <= year)\n",
    "    df_exchanges = df_exchanges.append({'year':year, 'nExchanges':nExchanges}, ignore_index=True)"
   ]
  },
  {
   "cell_type": "code",
   "execution_count": null,
   "metadata": {},
   "outputs": [],
   "source": [
    "# PLOTTING FUNCTIONS\n",
    "\n",
    "# Scatter plot formatting\n",
    "def plot_by_group(ax,grp_variable):\n",
    "    # Loop through groups \n",
    "    groups = df.groupby(grp_variable)\n",
    "    for name, group in groups:\n",
    "        ax.plot(group.date, group.logLoss, marker='o', linestyle='', alpha = 0.8, ms=12, label=name)\n",
    "    ax.legend()\n",
    "    ax.margins(0.05) # Optional, just adds 5% padding to the autoscaling\n",
    "    ax.yaxis.set_major_formatter(logFormatter) # set y axis to log units\n",
    "    plt.show()\n",
    "    \n",
    "    \n",
    "# Format the x axis into millions of USD\n",
    "def millions(x, pos):\n",
    "    'The two args are the value and tick position'\n",
    "    return '$%1.1fM' % (x*1e-6)    \n",
    "    \n",
    "\n",
    "# Format the x axis into log of USD\n",
    "def logmillions(x, pos):\n",
    "    'The two args are the value and tick position'\n",
    "    return '$%1.1fM' % (np.exp(x)*1e-6)"
   ]
  },
  {
   "cell_type": "code",
   "execution_count": null,
   "metadata": {},
   "outputs": [],
   "source": [
    "# GET BTC SUPPLY, PRICE AND MARKETCAP\n",
    "\n",
    "df[\"btcPrice\"] = np.nan\n",
    "df[\"btcMarketCap\"] = np.nan\n",
    "\n",
    "for idx, row in df.iterrows():\n",
    "    \n",
    "    # find which row of the charts data is the closest in time to the data\n",
    "    diffs = abs( df_charts['dateNew'][:]+datetime.timedelta(0.1) - df['date'][idx]) \n",
    "\n",
    "    closestIndex = diffs[:] <  datetime.timedelta(1)\n",
    "    \n",
    "    # save values\n",
    "    df[\"btcPrice\"][idx] = df_charts[closestIndex] ['price'] .values\n",
    "    df[\"btcMarketCap\"][idx] = df_charts[closestIndex] ['marketCap'] .values"
   ]
  },
  {
   "cell_type": "code",
   "execution_count": null,
   "metadata": {},
   "outputs": [],
   "source": [
    "# CONVERTING VARIABLE FORMATS\n",
    "\n",
    "# Turn loss USD into a float\n",
    "df[\"lossUSD\"] = df[\"lossUSD\"].str.replace(\",\",\"\").astype(float)\n",
    "\n",
    "# Create relative loss \n",
    "df['relLoss'] = df[\"lossUSD\"]/df[\"btcMarketCap\"]\n",
    "\n",
    "# Create log loss \n",
    "df['logLoss'] = np.log(df['lossUSD'])\n",
    "\n",
    "# Create log MarketCap \n",
    "df['logMarket'] = np.log(df['btcMarketCap'])\n",
    "df_charts['logMarket'] = np.log(df_charts['marketCap'])\n",
    "\n",
    "# Create log MarketCap \n",
    "df['logPrice'] = np.log(df['btcPrice'])"
   ]
  },
  {
   "cell_type": "markdown",
   "metadata": {},
   "source": [
    "First few rows of the data"
   ]
  },
  {
   "cell_type": "code",
   "execution_count": null,
   "metadata": {},
   "outputs": [],
   "source": [
    "df.head()"
   ]
  },
  {
   "cell_type": "markdown",
   "metadata": {},
   "source": [
    "### Figure 1. Number of hacks over years, and relative to number of exchanges\n",
    "<br>\n",
    "While the total frequency of hacks has been increasing (Top Left), the number of exchanges in operation has also been increasing (Top Right). As a result, the frequency of hacks relative to the number of echanges has been decreasing (Bottom Left)."
   ]
  },
  {
   "cell_type": "code",
   "execution_count": null,
   "metadata": {},
   "outputs": [],
   "source": [
    "# Create two subplots\n",
    "f, ([ax1, ax2], [ax3, ax4]) = plt.subplots(2, 2, figsize=(15, 15))\n",
    "\n",
    "# Subplot 1 - Hacks per year\n",
    "yearData = (df[\"date\"].dt.year) # extract year from date\n",
    "counts, bins, bars = ax1.hist(yearData,bins=range(2011, 2020), rwidth=0.5)\n",
    "# Format axes and title\n",
    "ax1.set_ylabel('Frequency')\n",
    "ax1.ticklabel_format(style='plain', axis='x', scilimits=(0,0))\n",
    "ax1.set_title('Total hacks per year')\n",
    "\n",
    "# Subplot 2 - Number of exchanges each year\n",
    "ax2.bar(df_exchanges['year'], df_exchanges['nExchanges'], width=0.5)\n",
    "# Format axes and title\n",
    "ax2.set_ylabel('Number of Exchanges')\n",
    "ax2.ticklabel_format(style='plain', axis='x', scilimits=(0,0))\n",
    "ax2.set_title('Number of exchanges over time')\n",
    "              \n",
    "# Subplot 3 - Hacks as a ratio of number of exchanges\n",
    "ax3.bar(df_exchanges['year'], counts/df_exchanges['nExchanges'], width=0.5)\n",
    "# Format axes and title\n",
    "ax3.set_ylabel('Number of Exchanges')\n",
    "ax3.ticklabel_format(style='plain', axis='x', scilimits=(0,0))\n",
    "ax3.set_title('Hacks per year / number of exchanges')\n",
    "              \n",
    "           \n",
    "ax4.axis('off');"
   ]
  },
  {
   "cell_type": "markdown",
   "metadata": {},
   "source": [
    "### Figure 2. Distribution of USD lost in hacks is skewed\n",
    "<br>\n",
    "The distribution of losses in hacks is highly skewed, with many relatively small losses and a few big losses (Left). A log scale is better at capturing the distribution (Right)."
   ]
  },
  {
   "cell_type": "code",
   "execution_count": null,
   "metadata": {},
   "outputs": [],
   "source": [
    "# Create two subplots\n",
    "f, (ax1, ax2) = plt.subplots(1, 2, figsize=(15, 5))\n",
    "\n",
    "# Subplot 1\n",
    "ax1.hist(df['lossUSD'],bins=30)\n",
    "# Format axes and title\n",
    "ax1.set_xlabel('Loss in USD')\n",
    "ax1.set_ylabel('Frequency')\n",
    "ax1.ticklabel_format(style='plain', axis='x', scilimits=(0,0))\n",
    "ax1.set_title('Distribution of losses')\n",
    "\n",
    "formatter = FuncFormatter(millions)\n",
    "ax1.xaxis.set_major_formatter(formatter)\n",
    "\n",
    "\n",
    "# Subplot 2\n",
    "# Histogram of hacked amount (log scale)\n",
    "ax2.hist(df['logLoss'],bins=30)\n",
    "# Format axes and title\n",
    "ax2.set_xlabel('Loss in USD (log scale)')\n",
    "ax2.yaxis.set_major_formatter(FormatStrFormatter('%.0f'))\n",
    "ax2.set_yticks(np.arange(0, 4, step=1))\n",
    "ax2.set_title('Log Distribution of losses')\n",
    "\n",
    "logFormatter = FuncFormatter(logmillions)\n",
    "ax2.xaxis.set_major_formatter(logFormatter)"
   ]
  },
  {
   "cell_type": "markdown",
   "metadata": {},
   "source": [
    "### Figure 3a. Timing of hacks relative to BTC market cap\n",
    "\n",
    "By eye, it appears that hacks are most frequent following a bull run.\n",
    "\n",
    "Small black points - BTC Market Cap values for each month <br>\n",
    "Red circles - Timing of hacks relative to the Market Cap price <br>"
   ]
  },
  {
   "cell_type": "code",
   "execution_count": null,
   "metadata": {},
   "outputs": [],
   "source": [
    "# BTC Market Cap data (black dots)\n",
    "dateYears = (df_charts[\"dateNew\"].dt.year) +(df_charts[\"dateNew\"].dt.month)/12  # convert date into years\n",
    "x_data = np.transpose([dateYears])\n",
    "y_data = df_charts['logMarket']\n",
    "\n",
    "# Timing of hack data (red dots)\n",
    "dateYears2 = (df[\"date\"].dt.year) +(df[\"date\"].dt.month)/12  # convert date into years\n",
    "x2_data = np.transpose([dateYears2])\n",
    "y2_data = df['logMarket']\n",
    "\n",
    "# Plot data\n",
    "fig, ax = plt.subplots(figsize=(15, 5)); # Set figure size\n",
    "plt.scatter(x_data, y_data,  color='black', s=3);\n",
    "plt.scatter(x2_data, y2_data,  color='red', s=50, marker=\"o\");\n",
    "\n",
    "# convert y axis to log values\n",
    "logFormatter = FuncFormatter(logmillions)\n",
    "ax.yaxis.set_major_formatter(logFormatter)\n",
    "\n",
    "plt.title('Timing of hacks relative to BTC market cap')\n",
    "plt.ylabel('USD (Millions)');\n"
   ]
  },
  {
   "cell_type": "markdown",
   "metadata": {},
   "source": [
    "### Figure 3b.  Absolute amount lost in USD per hack is increasing over time"
   ]
  },
  {
   "cell_type": "code",
   "execution_count": null,
   "metadata": {},
   "outputs": [],
   "source": [
    "# Define x and y data\n",
    "dateYears = (df[\"date\"].dt.year) +(df[\"date\"].dt.month)/12  # convert date into years\n",
    "x_data = np.transpose([dateYears])\n",
    "y_data = df['logLoss']\n",
    "\n",
    "# Create linear regression object\n",
    "regr = linear_model.LinearRegression(fit_intercept=True)\n",
    "\n",
    "# Train the model using the training sets\n",
    "regr.fit(x_data, y_data)\n",
    "\n",
    "# The coefficients\n",
    "print('Coefficients: \\n', regr.coef_)\n",
    "\n",
    "# Make predictions using the testing set\n",
    "y_pred = regr.predict(x_data)\n",
    "\n",
    "# Plot outputs\n",
    "fig, ax = plt.subplots(figsize=(15, 5))\n",
    "plt.scatter(x_data, y_data,  color='red', s=50, marker=\"^\")\n",
    "plt.plot(x_data, y_pred, color='black', linewidth=3)\n",
    "\n",
    "plt.xlabel('Time')\n",
    "plt.ylabel('Amount lost')\n",
    "ax.yaxis.set_major_formatter(logFormatter)\n",
    "\n",
    "plt.show()"
   ]
  },
  {
   "cell_type": "markdown",
   "metadata": {},
   "source": [
    "### Figure 3c. Amount lost per hack is actually decreasing relative to market cap\n",
    "\n",
    "Y-axis is the proportion of BTC lost relative to the total supply at the time*\n",
    "\n",
    "*Includes losses of other non BTC crypto assets (e.g. ETH). However the non-BTC amounts are not substantial."
   ]
  },
  {
   "cell_type": "code",
   "execution_count": null,
   "metadata": {},
   "outputs": [],
   "source": [
    "# Define x and y data\n",
    "dateYears = (df[\"date\"].dt.year) +(df[\"date\"].dt.month)/12  # convert date into years\n",
    "x_data = np.transpose([dateYears])\n",
    "y_data = df['relLoss']\n",
    "\n",
    "# Create linear regression object\n",
    "regr = linear_model.LinearRegression(fit_intercept=True)\n",
    "\n",
    "# Train the model using the training sets\n",
    "regr.fit(x_data, y_data)\n",
    "\n",
    "# The coefficients\n",
    "print('Coefficients: \\n', regr.coef_)\n",
    "\n",
    "# Make predictions using the testing set\n",
    "y_pred = regr.predict(x_data)\n",
    "\n",
    "# Plot outputs\n",
    "fig, ax = plt.subplots(figsize=(15, 5))\n",
    "plt.xlabel('Time')\n",
    "plt.ylabel('Proportion of BTC lost')\n",
    "\n",
    "plt.scatter(x_data, y_data, color='blue', s=50, marker=\"^\")\n",
    "plt.plot(x_data, y_pred, color='black', linewidth=3)\n",
    "plt.ylim((-0.01,0.15))\n",
    "plt.show()"
   ]
  },
  {
   "cell_type": "markdown",
   "metadata": {},
   "source": [
    "### Figure 3d. Correlation above still holds even when removing top two outliers (Mt Gox incidences)\n",
    "\n",
    "n.b. change the value of n below to remove n number of largest values."
   ]
  },
  {
   "cell_type": "code",
   "execution_count": null,
   "metadata": {},
   "outputs": [],
   "source": [
    "# REMOVE N NUMBER OF LARGEST VALUES (top two are MtGox 2011, 2014)\n",
    "n=2\n",
    "\n",
    "# Define x and y data\n",
    "dateYears = (df[\"date\"].dt.year) +(df[\"date\"].dt.month)/12  # convert date into years\n",
    "x_data = np.transpose([dateYears])\n",
    "y_data = df['relLoss']\n",
    "\n",
    "# Remove n high values\n",
    "idx = (-y_data).argsort()[:n]\n",
    "y_data = y_data.drop(idx)\n",
    "x_data = np.delete(x_data, idx, 0)\n",
    "\n",
    "# Create linear regression object\n",
    "regr = linear_model.LinearRegression(fit_intercept=True)\n",
    "\n",
    "# Train the model using the training sets\n",
    "regr.fit(x_data, y_data)\n",
    "\n",
    "# The coefficients\n",
    "print('Coefficients: \\n', regr.coef_)\n",
    "\n",
    "# Make predictions using the testing set\n",
    "y_pred = regr.predict(x_data)\n",
    "\n",
    "# Plot outputs\n",
    "fig, ax = plt.subplots(figsize=(15, 5))\n",
    "plt.xlabel('Time')\n",
    "plt.ylabel('Proportion of BTC lost')\n",
    "\n",
    "plt.scatter(x_data, y_data,   color='blue', s=50, marker=\"^\")\n",
    "plt.plot(x_data, y_pred, color='black', linewidth=3)\n",
    "plt.ylim((-0.002,0.025))\n",
    "# plt.autoscale(enable=True, axis='y')\n",
    "plt.show()"
   ]
  },
  {
   "cell_type": "markdown",
   "metadata": {},
   "source": [
    "### Figure 3e. Proportion of BTC lost is negatively correlated with market cap"
   ]
  },
  {
   "cell_type": "code",
   "execution_count": null,
   "metadata": {},
   "outputs": [],
   "source": [
    "# REMOVE N NUMBER OF LARGEST VALUES (top two are MtGox 2011, 2014)\n",
    "n=2\n",
    "\n",
    "# Define x and y data\n",
    "x_data = df['logMarket'].values\n",
    "x_data = np.reshape(x_data, (len(x_data), 1))\n",
    "\n",
    "y_data = df['relLoss']\n",
    "\n",
    "# Remove n high values\n",
    "idx = (-y_data).argsort()[:n]\n",
    "y_data = y_data.drop(idx)\n",
    "x_data = np.delete(x_data, idx, 0)\n",
    "\n",
    "\n",
    "# Create linear regression object\n",
    "regr = linear_model.LinearRegression(fit_intercept=True)\n",
    "\n",
    "# Train the model using the training sets\n",
    "regr.fit(x_data, y_data)\n",
    "\n",
    "# The coefficients\n",
    "print('Coefficients: \\n', regr.coef_)\n",
    "\n",
    "# Make predictions using the testing set\n",
    "y_pred = regr.predict(x_data)\n",
    "\n",
    "# Plot outputs\n",
    "fig, ax = plt.subplots(figsize=(15, 5))\n",
    "plt.scatter(x_data, y_data,  color='green')\n",
    "plt.plot(x_data, y_pred, color='black', linewidth=3)\n",
    "\n",
    "# convert x axis to log values\n",
    "logFormatter = FuncFormatter(logmillions)\n",
    "ax.xaxis.set_major_formatter(logFormatter)\n",
    "# Label axis\n",
    "plt.xlabel('Market Cap')\n",
    "plt.ylabel('Proportion of BTC lost')\n",
    "\n",
    "plt.show()"
   ]
  },
  {
   "cell_type": "markdown",
   "metadata": {},
   "source": [
    "### Figure 4. Type of hack over time and amount.\n",
    "Human errors were more common in the past (before 2015)\n",
    "\n",
    "Bugs are playing a larger role in modern hacks. This is mainly due to bugs in Ethereum smart contracts."
   ]
  },
  {
   "cell_type": "code",
   "execution_count": null,
   "metadata": {},
   "outputs": [],
   "source": [
    "fig, ax = plt.subplots(figsize=(10, 5)) # Set figure size\n",
    "plt.title('Hack Type')\n",
    "plot_by_group(ax,'hackType')"
   ]
  },
  {
   "cell_type": "markdown",
   "metadata": {},
   "source": [
    "### Figure 5. Type of organisation hacked over time and amount.\n",
    "\n",
    "Cryptocurrency exchanges make up the majority of (reported) hacked organisations. Smart contracts hacks have been responsible for some of the largest recent hacks."
   ]
  },
  {
   "cell_type": "code",
   "execution_count": null,
   "metadata": {},
   "outputs": [],
   "source": [
    "fig, ax = plt.subplots(figsize=(10, 5)) # Set figure size\n",
    "plt.title('Hacked Organisation')\n",
    "plot_by_group(ax,'organisation')"
   ]
  },
  {
   "cell_type": "markdown",
   "metadata": {},
   "source": [
    "### Figure 6a. Two thirds of hacks involved hot wallets\n",
    "*na refers to unknown cases or cases where it is not applicable, e.g. a smart contract being hacked."
   ]
  },
  {
   "cell_type": "code",
   "execution_count": null,
   "metadata": {},
   "outputs": [],
   "source": [
    "# Percentage of hot or cold wallets. na is information not available, or not applicable (e.g. DAO hack)\n",
    "walletCounts = df.groupby(df[\"walletType\"]).count();\n",
    "walletCounts.incident.plot(kind=\"pie\",figsize=(6, 6),autopct='%.2f');"
   ]
  },
  {
   "cell_type": "markdown",
   "metadata": {},
   "source": [
    "### Figure 6b. Wallet type hacked over date and amount\n",
    "<br>\n",
    "No clear trends in wallet type involved in hacks over time."
   ]
  },
  {
   "cell_type": "code",
   "execution_count": null,
   "metadata": {},
   "outputs": [],
   "source": [
    "# Hacks grouped by wallet type\n",
    "fig, ax = plt.subplots(figsize=(10, 5)) # Set figure size\n",
    "plt.title('Wallet type')\n",
    "plot_by_group(ax,'walletType')"
   ]
  }
 ],
 "metadata": {
  "kernelspec": {
   "display_name": "Python 3",
   "language": "python",
   "name": "python3"
  },
  "language_info": {
   "codemirror_mode": {
    "name": "ipython",
    "version": 3
   },
   "file_extension": ".py",
   "mimetype": "text/x-python",
   "name": "python",
   "nbconvert_exporter": "python",
   "pygments_lexer": "ipython3",
   "version": "3.7.0"
  }
 },
 "nbformat": 4,
 "nbformat_minor": 2
}
